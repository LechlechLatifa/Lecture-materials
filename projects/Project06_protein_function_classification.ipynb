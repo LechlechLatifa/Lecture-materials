{
  "nbformat": 4,
  "nbformat_minor": 0,
  "metadata": {
    "colab": {
      "provenance": []
    },
    "kernelspec": {
      "name": "python3",
      "display_name": "Python 3"
    },
    "language_info": {
      "name": "python"
    }
  },
  "cells": [
    {
      "cell_type": "markdown",
      "source": [
        "# Project: Protein Data encoding and Deep Learning for Function Classification\n",
        "\n",
        "The goal of this project will be to predict function of proteins using Deep Learning methods based on their sequence. As an intermediate step, however, you will be required to encode the protein sequence data into the vectorized form using the ProtVec model.\n",
        "\n",
        "## Introduction\n",
        "Proteins may perform various roles in organisms, with the main utility being encoded in specific fragments called active sites. Those fragments are usually conserved in the sequence and thus have been indetified and in many cases classified based on the InterPro annotation system (also called domains, with codes like IPR000000). Proteins might have multiple domains, which might also overlap, complicating the classification task.\n",
        "\n",
        "To perform this (and many other) task, researchers have been looking for a way to efficiently and intelligently encode the protein sequence space to be lightweight, carry as much information as possible and make it possible to use in Deep Learning models. One such method developped is called ProtVec which encodes protein fragments into a vectorized form. (You should read more in the publication provided).\n",
        "\n",
        "## Task\n",
        "1. Prepare the data:\n",
        "    1. Following the paper, you should prepare the data to be all the proteins from [SwissProt](https://www.uniprot.org/uniprotkb?query=reviewed:true) (Dataset is publically available as a part of the UniProt Database -- Reviewed=True).\n",
        "    2. As for the classification, use the top 100 most commonly appearing InterPro domains in the SwissProt dataset. More info in tips.\n",
        "2. Encode the sequential data using ProtVec model.\n",
        "3. Prepare and train the ML model for protein function classification based on the prepared InterPro labels.\n",
        "4. Present the results in the form of a table mapping the model accuracy to each family and summarise.\n",
        "\n",
        "## Tips\n",
        "- In the Download tool in the UniProt Database you can change the way of exporting the data, including fasta format for sequences and tsv/csv format for annotations. After selecting the tabular format you can also change the columns you want to export (ex. InterPro).\n",
        "- Think how do you want to approach the multiple domains -- perform the appearance statistics on the full architecture (all domains appearing in the protein), allow model to output multiple values, follow the methods used by the authors of the ProtVec paper, treating each family separately, some other way?\n",
        "\n",
        "Sources:\n",
        "- [Continuous Distributed Representation of Biological Sequences for Deep Proteomics and Genomics](https://journals.plos.org/plosone/article?id=10.1371/journal.pone.0141287)\n",
        "- [InterPro in 2022](https://academic.oup.com/nar/article/51/D1/D418/6814474?login=true)\n",
        "- [UniProt: the Universal Protein Knowledgebase in 2023](https://academic.oup.com/nar/article/51/D1/D523/6835362?login=true)\n",
        "\n"
      ],
      "metadata": {
        "id": "uZiZCLYbzIsQ"
      }
    },
    {
      "cell_type": "code",
      "execution_count": null,
      "metadata": {
        "id": "t44PFdVczD2M"
      },
      "outputs": [],
      "source": []
    }
  ]
}