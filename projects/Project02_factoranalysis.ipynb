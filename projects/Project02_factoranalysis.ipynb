{
 "cells": [
  {
   "cell_type": "markdown",
   "metadata": {},
   "source": [
    "## Project: Factor analysis for multimodal data using pyro\n",
    "\n",
    "### Introduction \n",
    "\n",
    "Single-cell genomics allows to profile not only a single data modality (gene expression, chromatin accessibility,...) but multiple modalities at once from the same cell (\"multimodal data\"). This allows to gain a better understanding of the cellular state by looking at different biological processes within the same cell, and to characterize better the cell state. This includes for example profiling of gene expression and chromatin accessibility (scRNA-seq and scATAC-seq) or gene expression and DNA methylation. Another type of multimodal data is [CITE-seq](https://cite-seq.com/), in which gene expression is simultaneously profiled with the expression of proteins expressed at the surface of the cell. This is for example used to profile immune cells, which are often characterized by a combination of surface proteins.\n",
    "\n",
    "### Goal\n",
    "\n",
    "The goal of this project is to build a pyro-based factor model to analyse CITE-seq data and couple the two data modalities, i.e. gene expression and surface protein expression. As a start, you can take the code from the FA class of the lab in week 6 to learn factor and weights matrices for each individual data modality. Based on this, you can then include a second weight matrix (for the second modality) with a shared factor matrix for both modalities as sued in the MOFA method. After checking that your model works on simulated data, apply it to the CITE-seq data set described below. We then suggest to investigate some of the following questions:\n",
    "1. How does the performance of your pyro model compare to MOFA on the CITE-seq data? What additional priors and sparsity assumptions could you add to your model to make it more similar to MOFA? Try out some different prior distributions and model settings.\n",
    "2. How could we leverage correspondence of transcripts and proteins in the data? Since we know which protein corresponds to which transcript, we could try to couple the corresponding values in the two weight matrices instead of having independent values in the model. Would you expect to have the same (or more similar) weights for a transcript and its corresponding protein? Can you think of a hierarchical model, in which a shared parameter for every transcript-protein pair is learnt and serves as a parameter for the distribution of the corresponding weight in each modality?\n",
    "3. How does this approach compare to using a non-linear method such as a VAE? Compare your results with other groups working with a VAE model on this data set.\n",
    "\n",
    "### Data and model\n",
    "\n",
    "The data to be used is a CITE-seq dataset provided by 10x genomics. Check the tutorial of [scanpy of CITE-seq](https://scanpy-tutorials.readthedocs.io/en/multiomics/cite-seq/pbmc5k.html) to see how to obtain the dataset and convert it into the AnnData format.\n",
    "Alternatively, you can also use the CITE-seq dataset provided [as part of the NeurIPS21 competition](https://www.ncbi.nlm.nih.gov/geo/query/acc.cgi?acc=GSE194122). This is the [link](https://www.ncbi.nlm.nih.gov/geo/download/?acc=GSE194122&format=file&file=GSE194122%5Fopenproblems%5Fneurips2021%5Fcite%5FBMMC%5Fprocessed%2Eh5ad%2Egz) to the CITE-seq data in anndata format.\n",
    "\n",
    "You can use snippets of code from the lab of week 6 where we showed how to built a factor model with pyro as a starting point and modify the architecture as needed. For details on pyro also take a look at the documentation [here](https://docs.pyro.ai/en/stable/)\n"
   ]
  },
  {
   "cell_type": "markdown",
   "metadata": {},
   "source": []
  },
  {
   "cell_type": "code",
   "execution_count": null,
   "metadata": {},
   "outputs": [],
   "source": []
  }
 ],
 "metadata": {
  "kernelspec": {
   "display_name": "Python 3 (ipykernel)",
   "language": "python",
   "name": "python3"
  },
  "language_info": {
   "codemirror_mode": {
    "name": "ipython",
    "version": 3
   },
   "file_extension": ".py",
   "mimetype": "text/x-python",
   "name": "python",
   "nbconvert_exporter": "python",
   "pygments_lexer": "ipython3",
   "version": "3.11.3"
  },
  "toc": {
   "base_numbering": 1,
   "nav_menu": {},
   "number_sections": true,
   "sideBar": true,
   "skip_h1_title": false,
   "title_cell": "Table of Contents",
   "title_sidebar": "Contents",
   "toc_cell": false,
   "toc_position": {},
   "toc_section_display": true,
   "toc_window_display": false
  }
 },
 "nbformat": 4,
 "nbformat_minor": 2
}
